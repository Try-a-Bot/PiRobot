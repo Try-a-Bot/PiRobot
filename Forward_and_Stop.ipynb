{
 "metadata": {
  "name": "Forward_and_Stop"
 },
 "nbformat": 3,
 "nbformat_minor": 0,
 "worksheets": [
  {
   "cells": [
    {
     "cell_type": "code",
     "collapsed": false,
     "input": "from BrickPi import *\nBrickPiSetup()\nBrickPi.MotorEnable[PORT_A] = 1\nBrickPi.MotorEnable[PORT_D] = 1\t\t\nBrickPi.SensorType[PORT_3] = TYPE_SENSOR_ULTRASONIC_CONT\nBrickPiSetupSensors()",
     "language": "python",
     "metadata": {},
     "outputs": [
      {
       "output_type": "pyout",
       "prompt_number": 1,
       "text": "0"
      }
     ],
     "prompt_number": 1
    },
    {
     "cell_type": "code",
     "collapsed": false,
     "input": "BrickPi.MotorSpeed[PORT_A] = -30\nBrickPi.MotorSpeed[PORT_D] = -30\n\nfor i in range(25):\n    BrickPiUpdateValues()\n    time.sleep(0.1)\n\nBrickPi.MotorSpeed[PORT_A] = 0\nBrickPi.MotorSpeed[PORT_D] = 0\nBrickPiUpdateValues()",
     "language": "python",
     "metadata": {},
     "outputs": [
      {
       "output_type": "pyout",
       "prompt_number": 70,
       "text": "0"
      }
     ],
     "prompt_number": 70
    },
    {
     "cell_type": "code",
     "collapsed": false,
     "input": "BrickPiUpdateValues()\nd = BrickPi.Sensor[PORT_3]\nprint(d)",
     "language": "python",
     "metadata": {},
     "outputs": [
      {
       "output_type": "stream",
       "stream": "stdout",
       "text": "14\n"
      }
     ],
     "prompt_number": 73
    },
    {
     "cell_type": "code",
     "collapsed": false,
     "input": "BrickPi.MotorSpeed[PORT_A] = 30\nBrickPi.MotorSpeed[PORT_D] = 30\n\nwhile BrickPi.Sensor[PORT_3] > 15:\n    BrickPiUpdateValues()\n    time.sleep(0.05)\n\nBrickPi.MotorSpeed[PORT_A] = 0\nBrickPi.MotorSpeed[PORT_D] = 0\nBrickPiUpdateValues()",
     "language": "python",
     "metadata": {},
     "outputs": [
      {
       "output_type": "pyout",
       "prompt_number": 72,
       "text": "0"
      }
     ],
     "prompt_number": 72
    },
    {
     "cell_type": "code",
     "collapsed": false,
     "input": "",
     "language": "python",
     "metadata": {},
     "outputs": []
    }
   ],
   "metadata": {}
  }
 ]
}