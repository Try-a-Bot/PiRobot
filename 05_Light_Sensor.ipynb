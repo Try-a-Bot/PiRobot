{
 "cells": [
  {
   "cell_type": "markdown",
   "metadata": {},
   "source": [
    "Light Sensor\n",
    "============\n",
    "<img src=\"files/img/LightSensor.jpg\" align=\"left\" style=\"margin: 0px 20px\">\n",
    "<img src=\"files/img/lego_mat.jpeg\" align=\"right\" style=\"margin: 0px 20px\">\n",
    "\n",
    "The light sensor works in 2 different ways:\n",
    "\n",
    "<ul>\n",
    "<li>It can detect the amount of ambient light and convert it to\n",
    "a numerical value. This value is sent to the controller.</li>\n",
    "\n",
    "<li> It can send out light and detect how much is reflected by\n",
    "an object. The sensor detects the brightness of an object\n",
    "and converts it to a numerical value and sends it to the\n",
    "controller.</li>\n",
    "</ul>\n",
    "\n",
    "You will use the second mode to detect black lines on a white floor, and to make the robot follow the lines.\n",
    "\n",
    "<h3>Calibration</h3>\n",
    "<p>The robot should start from position 5 (blue arrow in the figure) and go until position 6 of mat 1 (or vice-versa), moving straight across the line pattern. It should record the readings from the light sensor, and plot the values in a figure.</p>\n",
    "<p>First, let's initialize the motors and sensors; notice the new sensor type.</p>"
   ]
  },
  {
   "cell_type": "code",
   "execution_count": null,
   "metadata": {},
   "outputs": [],
   "source": [
    "from BrickPi import *\n",
    "BrickPiSetup()\n",
    "BrickPi.MotorEnable[PORT_A] = 1\n",
    "BrickPi.MotorEnable[PORT_D] = 1\n",
    "BrickPi.SensorType[PORT_2] = TYPE_SENSOR_LIGHT_ON\n",
    "BrickPiSetupSensors()"
   ]
  },
  {
   "cell_type": "markdown",
   "metadata": {},
   "source": [
    "Now, let's move the robot forward. While moving, the program reads the light sensor value and stores it in a vector. Finally, the robot stops, and the program plots the measurements."
   ]
  },
  {
   "cell_type": "code",
   "execution_count": null,
   "metadata": {},
   "outputs": [],
   "source": [
    "BrickPi.MotorSpeed[PORT_A] = 30     \n",
    "BrickPi.MotorSpeed[PORT_D] = 30\n",
    "\n",
    "v = []                                  # defines an empty vector\n",
    "for i in range(120):               \n",
    "    BrickPiUpdateValues() \n",
    "    v.append(BrickPi.Sensor[PORT_2])    # adds the sensor reading to the vector\n",
    "    time.sleep(0.1)                  \n",
    "\n",
    "BrickPi.MotorSpeed[PORT_A] = 0   \n",
    "BrickPi.MotorSpeed[PORT_D] = 0\n",
    "BrickPiUpdateValues()"
   ]
  },
  {
   "cell_type": "markdown",
   "metadata": {},
   "source": [
    " Now we can plot the measurements."
   ]
  },
  {
   "cell_type": "code",
   "execution_count": null,
   "metadata": {},
   "outputs": [],
   "source": [
    "%matplotlib inline\n",
    "from matplotlib.pyplot import *\n",
    "plot(v);"
   ]
  },
  {
   "cell_type": "markdown",
   "metadata": {},
   "source": [
    "Discussion\n",
    "==========\n",
    "\n",
    "* What is the relationship between the sensor values and the color in the floor?\n",
    "* Can the sensor reliably distinguish between white and black? What about red?\n",
    "* How can the robot use the sensor information for following the line?"
   ]
  },
  {
   "cell_type": "markdown",
   "metadata": {},
   "source": [
    "<hr>\n",
    "<center>\n",
    "    <p>&copy; Enric Cervera 2017</p>\n",
    "    <p><a href=\"http://www.uji.es\"><img alt=\"Universitat Jaume I\" src=\"files/img/uji_logo.jpg\" /></a></p>\n",
    "    <p><a rel=\"license\" href=\"http://creativecommons.org/licenses/by-sa/4.0/\"><img alt=\"Creative Commons License\" style=\"border-width:0\" src=\"https://i.creativecommons.org/l/by-sa/4.0/88x31.png\" /></a><br />This work is licensed under a <a rel=\"license\" href=\"http://creativecommons.org/licenses/by-sa/4.0/\">Creative Commons Attribution-ShareAlike 4.0 International License</a>.</p>\n",
    "</center>"
   ]
  }
 ],
 "metadata": {
  "kernelspec": {
   "display_name": "Python 2",
   "language": "python",
   "name": "python2"
  },
  "language_info": {
   "codemirror_mode": {
    "name": "ipython",
    "version": 2
   },
   "file_extension": ".py",
   "mimetype": "text/x-python",
   "name": "python",
   "nbconvert_exporter": "python",
   "pygments_lexer": "ipython2",
   "version": "2.7.9"
  }
 },
 "nbformat": 4,
 "nbformat_minor": 1
}
