{
 "metadata": {
  "name": "Test_Infrared_Range"
 },
 "nbformat": 3,
 "nbformat_minor": 0,
 "worksheets": [
  {
   "cells": [
    {
     "cell_type": "markdown",
     "metadata": {},
     "source": "Infrared Range Sensor\n===============\n<img src=\"files/img/gp2d12.jpg\" align=\"left\">\nThe Infrared Range Sensor enables your robot to detect objects. Unlike ultrasonic sensors, which use sound waves to measure distance, the IR Range Sensor uses infrared light. On one side of the sensor an infrared LED shines a beam of light, which is reflected back by the closest object, and detected by the receiver on the other side of the sensor. The sensor then uses a method called triangulation to determine how far away the object was.\n<p>The basis for triangulation is that objects at different distances will reflect the infrared beam back to the receiver at different angles. The varying angles produce different voltage levels in the sensor, and in turn sensor values that can be used to calculate distance. See below:</p>"
    },
    {
     "cell_type": "markdown",
     "metadata": {},
     "source": "<img src=\"files/img/gp2d120_output.png\" align=\"right\" height=\"400px\">\n<p align=\"center\"><img src=\"files/img/triangulation.png\"></p>\n<p>The IR Range Sensor provides very reliable distance values ranging from 4 to 30 centimeters away. One big advantage with using the IR Range Sensor is that it's not affected by soft or angled objects that cause the ultrasonic sensor to fail.\n<p>One challenge with using the sensor is that the raw values provided do not directly correlate to useful distance values, and they're also non-linear (see figure at the right). This means that we must perform a calculation on the raw sensor data first.\n<p>One additional challenge is that we can't directly access the voltage returned by the sensor in our program. What we can access is the sensor value, which is proportional to the voltage - we'll just have to take a conversion factor into account."
    },
    {
     "cell_type": "markdown",
     "metadata": {},
     "source": "First, let's initialize the IR Range sensor that is connected to port S4 in the BrickPi."
    },
    {
     "cell_type": "code",
     "collapsed": false,
     "input": "from BrickPi import *\nBrickPiSetup()\nBrickPi.SensorType[PORT_4] = TYPE_SENSOR_RAW\nBrickPiSetupSensors()",
     "language": "python",
     "metadata": {},
     "outputs": [
      {
       "output_type": "pyout",
       "prompt_number": 1,
       "text": "0"
      }
     ],
     "prompt_number": 1
    },
    {
     "cell_type": "markdown",
     "metadata": {},
     "source": "Now, let's make one measurement; the resulting number is related to the distance to an obstacle in the front, accorded to the graph presented before."
    },
    {
     "cell_type": "code",
     "collapsed": false,
     "input": "BrickPiUpdateValues()\nd = BrickPi.Sensor[PORT_4]\nprint(d)",
     "language": "python",
     "metadata": {},
     "outputs": [
      {
       "output_type": "stream",
       "stream": "stdout",
       "text": "363\n"
      }
     ],
     "prompt_number": 14
    },
    {
     "cell_type": "markdown",
     "metadata": {},
     "source": "If no obstacle is detected, the value 255 is returned.\n\nIf the value is -1, something wrong happened. Please try again, or ask the teacher.\n<hr>\nFor visualization purposes, let's define a short function for plotting the sensor image and the distance as a triangle."
    },
    {
     "cell_type": "code",
     "collapsed": false,
     "input": "ultra_img = imread('img/ultrasonic.png')\n\ndef drawUltrasonic(d):\n    imshow(ultra_img)\n    hold(True)\n    plot([48,48+8*d,48+8*d,48],[29,29+d/4,29-d/4,29])\n    axis([0,400,0,60])\n    axis('off')\n    hold(False)",
     "language": "python",
     "metadata": {},
     "outputs": [],
     "prompt_number": 3
    },
    {
     "cell_type": "markdown",
     "metadata": {},
     "source": "Let's visualize a measurement. Put an obstacle (your hand, a book) in front of the robot and refresh the plot by pressing Ctrl+Enter."
    },
    {
     "cell_type": "code",
     "collapsed": false,
     "input": "BrickPiUpdateValues()\nd = BrickPi.Sensor[PORT_3]\ndrawUltrasonic(d)",
     "language": "python",
     "metadata": {},
     "outputs": [
      {
       "output_type": "display_data",
       "png": "[encoded data removed]"
      }
     ],
     "prompt_number": 4
    },
    {
     "cell_type": "markdown",
     "metadata": {},
     "source": "We can add a few more lines for repeating automatically the measurement process (this is called a **loop** in programming).\n\nFor stopping the loop, you should click the **Interrupt** button in the notebook menu.\n\n![](files/img/interrupt_button.png)"
    },
    {
     "cell_type": "code",
     "collapsed": false,
     "input": "from IPython.display import display, clear_output\ntry:\n    while True:\n        BrickPiUpdateValues()\n        d = BrickPi.Sensor[PORT_3]\n        drawUltrasonic(d)\n        clear_output()\n        display(gcf())\n        time.sleep(0.5)\nexcept KeyboardInterrupt:\n    clf()",
     "language": "python",
     "metadata": {},
     "outputs": [
      {
       "output_type": "display_data",
       "png": "[encoded data removed]",
       "text": "<matplotlib.figure.Figure at 0x14ebdd0>"
      }
     ],
     "prompt_number": 5
    },
    {
     "cell_type": "markdown",
     "metadata": {},
     "source": "Congratulations! You have successfully learnt about the ultrasonic sensors. Now you are ready to program the robot for a simple task with the sensor.\n<hr>\n<center>\n    <p>&copy; Enric Cervera 2016</p>\n    <p><a href=\"http://www.uji.es\"><img alt=\"Universitat Jaume I\" src=\"files/img/uji_logo.jpg\" /></a></p>\n    <p><a rel=\"license\" href=\"http://creativecommons.org/licenses/by-sa/4.0/\"><img alt=\"Creative Commons License\" style=\"border-width:0\" src=\"https://i.creativecommons.org/l/by-sa/4.0/88x31.png\" /></a><br />This work is licensed under a <a rel=\"license\" href=\"http://creativecommons.org/licenses/by-sa/4.0/\">Creative Commons Attribution-ShareAlike 4.0 International License</a>.</p>\n</center>"
    }
   ],
   "metadata": {}
  }
 ]
}