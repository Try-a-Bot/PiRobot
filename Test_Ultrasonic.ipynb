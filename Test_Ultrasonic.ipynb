{
 "metadata": {
  "name": "Test_Ultrasonic"
 },
 "nbformat": 3,
 "nbformat_minor": 0,
 "worksheets": [
  {
   "cells": [
    {
     "cell_type": "markdown",
     "metadata": {},
     "source": "Ultrasonic Sensor\n===============\n<img src=\"files/NXT-Ultrasonic-Sensor.png\" align=\"left\">\nThe Ultrasonic Sensor enables your robot to detect objects. \n\nIt measures distance in centimeters, ranging from 0 to 255 with a precision of +/- 3 cm.\n\nThe Ultrasonic Sensor uses the same scientific principle as bats: it measures distance by calculating the time it takes for a sound wave to hit an object and return \u2013 just like an echo. Large sized objects with hard surfaces return the best readings. Objects made of soft fabric or that are curved [like a ball] or are very thin or small can be difficult for the sensor to detect.\n\n* Note that two or more Ultrasonic Sensors operating in the same room may interrupt each other\u2019s readings."
    },
    {
     "cell_type": "markdown",
     "metadata": {},
     "source": "First, let's initialize the ultrasonic sensor that is connected to port S3 in the BrickPi."
    },
    {
     "cell_type": "code",
     "collapsed": false,
     "input": "from BrickPi import *\nBrickPiSetup()\nBrickPi.SensorType[PORT_3] = TYPE_SENSOR_ULTRASONIC_CONT\nBrickPiSetupSensors()",
     "language": "python",
     "metadata": {},
     "outputs": [
      {
       "output_type": "pyout",
       "prompt_number": 1,
       "text": "0"
      }
     ],
     "prompt_number": 1
    },
    {
     "cell_type": "markdown",
     "metadata": {},
     "source": "Now, let's make one measurement; the resulting number is the distance in centimeters to an obstacle in the front."
    },
    {
     "cell_type": "code",
     "collapsed": false,
     "input": "BrickPiUpdateValues()\nd = BrickPi.Sensor[PORT_3]\nprint(d)",
     "language": "python",
     "metadata": {},
     "outputs": [
      {
       "output_type": "stream",
       "stream": "stdout",
       "text": "255\n"
      }
     ],
     "prompt_number": 2
    },
    {
     "cell_type": "markdown",
     "metadata": {},
     "source": "If no obstacle is detected, the value 255 is returned.\n\nIf the value is -1, something wrong happened. Please try again, or ask the teacher.\n<hr>\nFor visualization purposes, let's define a short function for plotting the sensor image and the distance as a triangle."
    },
    {
     "cell_type": "code",
     "collapsed": false,
     "input": "ultra_img = imread('ultrasonic.png')\n\ndef drawUltrasonic(d):\n    imshow(ultra_img)\n    hold(True)\n    plot([48,48+8*d,48+8*d,48],[29,29+d/4,29-d/4,29])\n    axis([0,400,0,60])\n    axis('off')\n    hold(False)",
     "language": "python",
     "metadata": {},
     "outputs": [],
     "prompt_number": 3
    },
    {
     "cell_type": "markdown",
     "metadata": {},
     "source": "Let's visualize a measurement. Put an obstacle (your hand, a book) in front of the robot and refresh the plot by pressing Ctrl+Enter."
    },
    {
     "cell_type": "code",
     "collapsed": false,
     "input": "BrickPiUpdateValues()\nd = BrickPi.Sensor[PORT_3]\ndrawUltrasonic(d)",
     "language": "python",
     "metadata": {},
     "outputs": [
      {
       "output_type": "display_data",
       "png": "[encoded data removed]"
      }
     ],
     "prompt_number": 4
    },
    {
     "cell_type": "markdown",
     "metadata": {},
     "source": "We can add a few more lines for repeating automatically the measurement process (this is called a **loop** in programming).\n\nFor stopping the loop, you should click the **Interrupt** button in the notebook menu.\n\n![](files/interrupt_button.png)"
    },
    {
     "cell_type": "code",
     "collapsed": false,
     "input": "from IPython.display import display, clear_output\ntry:\n    while True:\n        BrickPiUpdateValues()\n        d = BrickPi.Sensor[PORT_3]\n        drawUltrasonic(d)\n        clear_output()\n        display(gcf())\n        time.sleep(0.5)\nexcept KeyboardInterrupt:\n    clf()",
     "language": "python",
     "metadata": {},
     "outputs": [
      {
       "output_type": "display_data",
       "png": "[encoded data removed]",
       "text": "<matplotlib.figure.Figure at 0x17d9630>"
      }
     ],
     "prompt_number": 5
    },
    {
     "cell_type": "markdown",
     "metadata": {},
     "source": "Congratulations! You have successfully learnt about the ultrasonic sensors. Now you are ready to program the robot for a simple task with the sensor.\n<hr>\n&copy; Enric Cervera 2016 - Universitat Jaume I"
    }
   ],
   "metadata": {}
  }
 ]
}