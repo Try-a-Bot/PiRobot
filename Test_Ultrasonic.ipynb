{
 "metadata": {
  "name": "Test_Ultrasonic"
 },
 "nbformat": 3,
 "nbformat_minor": 0,
 "worksheets": [
  {
   "cells": [
    {
     "cell_type": "code",
     "collapsed": false,
     "input": "from BrickPi import *\nBrickPiSetup()\nBrickPi.SensorType[PORT_3] = TYPE_SENSOR_ULTRASONIC_CONT\nBrickPiSetupSensors()",
     "language": "python",
     "metadata": {},
     "outputs": [
      {
       "output_type": "pyout",
       "prompt_number": 1,
       "text": "0"
      }
     ],
     "prompt_number": 1
    },
    {
     "cell_type": "code",
     "collapsed": false,
     "input": "BrickPiUpdateValues()\nd = BrickPi.Sensor[PORT_3]\nprint(d)",
     "language": "python",
     "metadata": {},
     "outputs": [
      {
       "output_type": "stream",
       "stream": "stdout",
       "text": "21\n"
      }
     ],
     "prompt_number": 2
    },
    {
     "cell_type": "code",
     "collapsed": false,
     "input": "ultra_img = imread('ultrasonic.png')\n\ndef drawUltrasonic(d):\n    imshow(ultra_img)\n    hold(True)\n    plot([48,48+8*d,48+8*d,48],[29,29+d/4,29-d/4,29])\n    axis([0,400,0,60])\n    axis('off')\n    hold(False)",
     "language": "python",
     "metadata": {},
     "outputs": [],
     "prompt_number": 3
    },
    {
     "cell_type": "code",
     "collapsed": false,
     "input": "BrickPiUpdateValues()\nd = BrickPi.Sensor[PORT_3]\ndrawUltrasonic(d)",
     "language": "python",
     "metadata": {},
     "outputs": [
      {
       "output_type": "display_data",
       "png": "[encoded data removed]"
      }
     ],
     "prompt_number": 4
    },
    {
     "cell_type": "code",
     "collapsed": false,
     "input": "from IPython.display import display, clear_output\ntry:\n    while True: # Stop the loop by selecting Kernel/Interrupt\n        BrickPiUpdateValues()\n        d = BrickPi.Sensor[PORT_3]\n        drawUltrasonic(d)\n        clear_output()\n        display(gcf())\n        time.sleep(0.5)\nexcept KeyboardInterrupt:\n    clf()",
     "language": "python",
     "metadata": {},
     "outputs": [
      {
       "output_type": "display_data",
       "png": "[encoded data removed]",
       "text": "<matplotlib.figure.Figure at 0x13130f0>"
      }
     ],
     "prompt_number": 5
    }
   ],
   "metadata": {}
  }
 ]
}