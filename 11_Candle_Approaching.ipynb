{
 "cells": [
  {
   "cell_type": "code",
   "execution_count": null,
   "metadata": {},
   "outputs": [],
   "source": [
    "import time\n",
    "import picamera\n",
    "import picamera.array\n",
    "import modules.candle as candle\n",
    "\n",
    "camera = picamera.PiCamera()\n",
    "time.sleep(1)\n",
    "stream = picamera.array.PiRGBArray(camera)\n",
    "\n",
    "from BrickPi import *\n",
    "BrickPiSetup()\n",
    "BrickPi.MotorEnable[PORT_A] = 1\n",
    "BrickPi.MotorEnable[PORT_D] = 1"
   ]
  },
  {
   "cell_type": "code",
   "execution_count": null,
   "metadata": {},
   "outputs": [],
   "source": [
    "stream.truncate(0)\n",
    "camera.capture(stream, format='rgb')\n",
    "image = stream.array\n",
    "imshow(image)\n",
    "\n",
    "found,x,y,w,h = candle.position(image)\n",
    "if found:\n",
    "    print('Candle bounding box: (x,y)=(%d,%d), w=%d, h=%d ' % (x,y,w,h))\n",
    "    plot([x,x+w,x+w,x,x],[y,y,y+h,y+h,y],'y-')\n",
    "    lit = candle.state(image,x,y,w,h)\n",
    "    if lit:\n",
    "        print('It seems to be ON')\n",
    "    else:\n",
    "        print('It seems to be OFF')\n",
    "else:\n",
    "    print('Candle not found')\n"
   ]
  },
  {
   "cell_type": "code",
   "execution_count": null,
   "metadata": {},
   "outputs": [],
   "source": [
    "from IPython.display import clear_output\n",
    "try:\n",
    "    converged = False\n",
    "    while not converged:\n",
    "        stream.truncate(0)\n",
    "        camera.capture(stream, format='rgb')\n",
    "        image = stream.array\n",
    "        found,x,y,w,h = candle.position(image)\n",
    "        clear_output()\n",
    "        if found:\n",
    "            xm = x + w/2\n",
    "            dx = xm - 360\n",
    "            motor = dx * 500 / 360\n",
    "            if motor > 50:\n",
    "                motor = 50\n",
    "            if motor < -50:\n",
    "                motor = -50\n",
    "            print(xm,dx,motor)\n",
    "            BrickPi.MotorSpeed[PORT_A] = motor\n",
    "            BrickPi.MotorSpeed[PORT_D] = -motor\n",
    "            BrickPiUpdateValues()\n",
    "            time.sleep(0.1)\n",
    "            BrickPi.MotorSpeed[PORT_A] = 0\n",
    "            BrickPi.MotorSpeed[PORT_D] = 0\n",
    "            BrickPiUpdateValues()\n",
    "            converged = abs(motor) < 10\n",
    "        else:\n",
    "            print(\"candle not found\")\n",
    "except KeyboardInterrupt:\n",
    "    pass"
   ]
  },
  {
   "cell_type": "markdown",
   "metadata": {},
   "source": [
    "<hr>\n",
    "<center>\n",
    "    <p>&copy; Enric Cervera 2016</p>\n",
    "    <p><a href=\"http://www.uji.es\"><img alt=\"Universitat Jaume I\" src=\"files/img/uji_logo.jpg\" /></a></p>\n",
    "    <p><a rel=\"license\" href=\"http://creativecommons.org/licenses/by-sa/4.0/\"><img alt=\"Creative Commons License\" style=\"border-width:0\" src=\"https://i.creativecommons.org/l/by-sa/4.0/88x31.png\" /></a><br />This work is licensed under a <a rel=\"license\" href=\"http://creativecommons.org/licenses/by-sa/4.0/\">Creative Commons Attribution-ShareAlike 4.0 International License</a>.</p>\n",
    "</center>"
   ]
  }
 ],
 "metadata": {
  "kernelspec": {
   "display_name": "Python 2",
   "language": "python",
   "name": "python2"
  },
  "language_info": {
   "codemirror_mode": {
    "name": "ipython",
    "version": 2
   },
   "file_extension": ".py",
   "mimetype": "text/x-python",
   "name": "python",
   "nbconvert_exporter": "python",
   "pygments_lexer": "ipython2",
   "version": "2.7.9"
  }
 },
 "nbformat": 4,
 "nbformat_minor": 1
}
