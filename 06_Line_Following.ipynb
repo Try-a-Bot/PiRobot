{
 "metadata": {
  "name": "06_Line_Following"
 },
 "nbformat": 3,
 "nbformat_minor": 0,
 "worksheets": [
  {
   "cells": [
    {
     "cell_type": "markdown",
     "metadata": {},
     "source": "Line Following\n==============\n\nYou must program a robot's behavior to follow a black line on a white background. Since only one light sensor is available, the strategy consists of keeping the sensor on the edge of the line while moving forward. If the sensor signal is brighter, the robot should turn towards the inner side of line; if the sensor is darker, it should turn towards the outer side of the line.\nThe robot should start from position 7 of mat 1, follow the black line, and arrive into the rectangle at the end of the line."
    },
    {
     "cell_type": "code",
     "collapsed": false,
     "input": "from BrickPi import *\nBrickPiSetup()\nBrickPi.MotorEnable[PORT_A] = 1\nBrickPi.MotorEnable[PORT_D] = 1\nBrickPi.SensorType[PORT_2] = TYPE_SENSOR_LIGHT_ON\nBrickPiSetupSensors()",
     "language": "python",
     "metadata": {},
     "outputs": [
      {
       "output_type": "pyout",
       "prompt_number": 1,
       "text": "0"
      }
     ],
     "prompt_number": 1
    },
    {
     "cell_type": "code",
     "collapsed": false,
     "input": "try:\n    while True:                       \n        light = BrickPi.Sensor[PORT_2]\n        if light == 1023:\n            BrickPi.MotorSpeed[PORT_A] = 0          \n            BrickPi.MotorSpeed[PORT_D] = 0\n        elif light < 370:\n            BrickPi.MotorSpeed[PORT_A] =  0          \n            BrickPi.MotorSpeed[PORT_D] = 50\n        elif light > 550:\n            BrickPi.MotorSpeed[PORT_A] = 50          \n            BrickPi.MotorSpeed[PORT_D] = 0\n        else:\n            BrickPi.MotorSpeed[PORT_A] = 50          \n            BrickPi.MotorSpeed[PORT_D] = 50\n        BrickPiUpdateValues()\n        time.sleep(0.01)\n\nexcept KeyboardInterrupt:                        # when interrupted, \n        BrickPi.MotorSpeed[PORT_A] = 0           # the robot stops\n        BrickPi.MotorSpeed[PORT_D] = 0           # and the program ends\n        BrickPiUpdateValues()",
     "language": "python",
     "metadata": {},
     "outputs": [
      {
       "output_type": "stream",
       "stream": "stdout",
       "text": "370\n"
      }
     ],
     "prompt_number": 5
    },
    {
     "cell_type": "markdown",
     "metadata": {},
     "source": "<hr>\n<center>\n    <p>&copy; Enric Cervera 2016</p>\n    <p><a href=\"http://www.uji.es\"><img alt=\"Universitat Jaume I\" src=\"files/img/uji_logo.jpg\" /></a></p>\n    <p><a rel=\"license\" href=\"http://creativecommons.org/licenses/by-sa/4.0/\"><img alt=\"Creative Commons License\" style=\"border-width:0\" src=\"https://i.creativecommons.org/l/by-sa/4.0/88x31.png\" /></a><br />This work is licensed under a <a rel=\"license\" href=\"http://creativecommons.org/licenses/by-sa/4.0/\">Creative Commons Attribution-ShareAlike 4.0 International License</a>.</p>\n</center>"
    }
   ],
   "metadata": {}
  }
 ]
}