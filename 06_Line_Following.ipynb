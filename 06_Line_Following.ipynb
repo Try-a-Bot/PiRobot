{
 "metadata": {
  "name": "06_Line_Following"
 },
 "nbformat": 3,
 "nbformat_minor": 0,
 "worksheets": [
  {
   "cells": [
    {
     "cell_type": "markdown",
     "metadata": {},
     "source": "Line Following\n==============\n\nYou must program a robot's behavior to follow a black line on a white background. Since only one light sensor is available, the strategy consists of keeping the sensor on the edge of the line while moving forward. If the sensor signal is brighter, the robot should turn towards the inner side of line; if the sensor is darker, it should turn towards the outer side of the line.\nThe robot should start from position 7 of mat 1, follow the black line, and arrive into the rectangle at the end of the line."
    },
    {
     "cell_type": "code",
     "collapsed": false,
     "input": "",
     "language": "python",
     "metadata": {},
     "outputs": []
    }
   ],
   "metadata": {}
  }
 ]
}