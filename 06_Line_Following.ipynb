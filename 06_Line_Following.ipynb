{
 "cells": [
  {
   "cell_type": "markdown",
   "metadata": {},
   "source": [
    "# Line Following"
   ]
  },
  {
   "cell_type": "markdown",
   "metadata": {},
   "source": [
    "<img src=\"files/img/line_sensor.jpg\" align=\"right\">\n",
    "\n",
    "You must program a robot's behavior to follow a black line on a white background. \n",
    "\n",
    "Since only one light sensor is available, the strategy consists of keeping the sensor on the edge of the line while moving forward (see photo), and making small corrections to left and right when the sensor readings change: \n",
    "\n",
    "* If the sensor signal gives a \"whiter\" value, the robot should turn towards the inner side of line; \n",
    "* if the sensor is \"blacker\", it should turn towards the outer side of the line;\n",
    "* finally, if the sensor is between white and black, the robot is doing well, and it should keep moving forward.\n",
    "\n",
    "The robot should start from position 7 of mat 1, follow the black line, and arrive into the rectangle at the end of the line."
   ]
  },
  {
   "cell_type": "code",
   "execution_count": null,
   "metadata": {
    "collapsed": true
   },
   "outputs": [],
   "source": [
    "from BrickPi import *\n",
    "BrickPiSetup()\n",
    "BrickPi.MotorEnable[PORT_A] = 1\n",
    "BrickPi.MotorEnable[PORT_D] = 1\n",
    "BrickPi.SensorType[PORT_2] = TYPE_SENSOR_LIGHT_ON\n",
    "BrickPiSetupSensors()"
   ]
  },
  {
   "cell_type": "code",
   "execution_count": null,
   "metadata": {
    "collapsed": true
   },
   "outputs": [],
   "source": [
    "try:\n",
    "    while True:                       \n",
    "        light = BrickPi.Sensor[PORT_2]\n",
    "        if light == 1023:\n",
    "            BrickPi.MotorSpeed[PORT_A] = 0          \n",
    "            BrickPi.MotorSpeed[PORT_D] = 0\n",
    "        elif light < 370:\n",
    "            BrickPi.MotorSpeed[PORT_A] =  0          \n",
    "            BrickPi.MotorSpeed[PORT_D] = 50\n",
    "        elif light > 550:\n",
    "            BrickPi.MotorSpeed[PORT_A] = 50          \n",
    "            BrickPi.MotorSpeed[PORT_D] = 0\n",
    "        else:\n",
    "            BrickPi.MotorSpeed[PORT_A] = 50          \n",
    "            BrickPi.MotorSpeed[PORT_D] = 50\n",
    "        BrickPiUpdateValues()\n",
    "        time.sleep(0.01)\n",
    "\n",
    "except KeyboardInterrupt:                        # when interrupted, \n",
    "        BrickPi.MotorSpeed[PORT_A] = 0           # the robot stops\n",
    "        BrickPi.MotorSpeed[PORT_D] = 0           # and the program ends\n",
    "        BrickPiUpdateValues()"
   ]
  },
  {
   "cell_type": "markdown",
   "metadata": {},
   "source": [
    "<hr>\n",
    "<center>\n",
    "    <p>&copy; Enric Cervera 2017</p>\n",
    "    <p><a href=\"http://www.uji.es\"><img alt=\"Universitat Jaume I\" src=\"img/uji_new_logo.png\" /></a></p>\n",
    "    <p><a rel=\"license\" href=\"http://creativecommons.org/licenses/by-sa/4.0/\"><img alt=\"Creative Commons License\" style=\"border-width:0\" src=\"https://i.creativecommons.org/l/by-sa/4.0/88x31.png\" /></a><br />This work is licensed under a <a rel=\"license\" href=\"http://creativecommons.org/licenses/by-sa/4.0/\">Creative Commons Attribution-ShareAlike 4.0 International License</a>.</p>\n",
    "</center>"
   ]
  }
 ],
 "metadata": {
  "kernelspec": {
   "display_name": "Python 2",
   "language": "python",
   "name": "python2"
  },
  "language_info": {
   "codemirror_mode": {
    "name": "ipython",
    "version": 2
   },
   "file_extension": ".py",
   "mimetype": "text/x-python",
   "name": "python",
   "nbconvert_exporter": "python",
   "pygments_lexer": "ipython2",
   "version": "2.7.9"
  }
 },
 "nbformat": 4,
 "nbformat_minor": 1
}
