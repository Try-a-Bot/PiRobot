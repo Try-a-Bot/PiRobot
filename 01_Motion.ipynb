{
 "cells": [
  {
   "cell_type": "markdown",
   "metadata": {},
   "source": [
    "<img src=\"files/img/nxt_motor.jpg\" align=\"right\">\n",
    "\n",
    "Motors\n",
    "======\n",
    "\n",
    "The robot has two motors, connected to the left and right wheels. Each motor can turn forward and backward independently, thus allowing the robot to move forward, backward, turn left or right.\n",
    "\n",
    "The motors are connected to ports MA and MD of the controller board. First, the program needs to enable the motors on the corresponding ports."
   ]
  },
  {
   "cell_type": "code",
   "execution_count": null,
   "metadata": {
    "collapsed": true
   },
   "outputs": [],
   "source": [
    "from BrickPi import *\n",
    "BrickPiSetup()\n",
    "BrickPi.MotorEnable[PORT_A] = 1\n",
    "BrickPi.MotorEnable[PORT_D] = 1"
   ]
  },
  {
   "cell_type": "markdown",
   "metadata": {},
   "source": [
    "<img src=\"files/img/robot_steering.png\" align=\"right\">\n",
    "Now, you can send commands for moving the robot, by setting the speed on each motor. \n",
    "\n",
    "The values can be positive (forward) or negative (backward), ranging from +50 to -50. \n",
    "\n",
    "Obviously, a larger value makes the motor turn faster, yet there is not a strictly proportional relationship. \n",
    "\n",
    "Below you will find the code for moving the robots in four different ways (forward, backward, turn left, turn right). \n",
    "\n",
    "You can experiment with intermediate values on each motor, to make the robot describe different trajectories, as shown in the figure."
   ]
  },
  {
   "cell_type": "markdown",
   "metadata": {},
   "source": [
    "### Forward"
   ]
  },
  {
   "cell_type": "markdown",
   "metadata": {},
   "source": [
    "For making the robot move, you need to set up each motor speed with some value different from zero. The motors will start to turn, and the program must wait for some time, to allow the robot to move. Finally, the motor speeds are set again to zero, to stop the robot."
   ]
  },
  {
   "cell_type": "code",
   "execution_count": null,
   "metadata": {
    "collapsed": true
   },
   "outputs": [],
   "source": [
    "BrickPi.MotorSpeed[PORT_A] = 50      # make both motors turn\n",
    "BrickPi.MotorSpeed[PORT_D] = 50\n",
    "\n",
    "for i in range(25):                  # wait for 2.5 seconds\n",
    "    BrickPiUpdateValues()            # (25 times 0.1 seconds)\n",
    "    time.sleep(0.1)                  \n",
    "\n",
    "BrickPi.MotorSpeed[PORT_A] = 0       # stop both motors\n",
    "BrickPi.MotorSpeed[PORT_D] = 0\n",
    "BrickPiUpdateValues()"
   ]
  },
  {
   "cell_type": "markdown",
   "metadata": {},
   "source": [
    "### Backward"
   ]
  },
  {
   "cell_type": "code",
   "execution_count": null,
   "metadata": {
    "collapsed": true
   },
   "outputs": [],
   "source": [
    "BrickPi.MotorSpeed[PORT_A] = -50\n",
    "BrickPi.MotorSpeed[PORT_D] = -50\n",
    "\n",
    "for i in range(25):\n",
    "    BrickPiUpdateValues()\n",
    "    time.sleep(0.1)\n",
    "\n",
    "BrickPi.MotorSpeed[PORT_A] = 0\n",
    "BrickPi.MotorSpeed[PORT_D] = 0\n",
    "BrickPiUpdateValues()"
   ]
  },
  {
   "cell_type": "markdown",
   "metadata": {},
   "source": [
    "### Turn right"
   ]
  },
  {
   "cell_type": "code",
   "execution_count": null,
   "metadata": {
    "collapsed": true
   },
   "outputs": [],
   "source": [
    "BrickPi.MotorSpeed[PORT_A] =  50\n",
    "BrickPi.MotorSpeed[PORT_D] = -50\n",
    "\n",
    "for i in range(10):\n",
    "    BrickPiUpdateValues()\n",
    "    time.sleep(0.1)\n",
    "\n",
    "BrickPi.MotorSpeed[PORT_A] = 0\n",
    "BrickPi.MotorSpeed[PORT_D] = 0\n",
    "BrickPiUpdateValues()"
   ]
  },
  {
   "cell_type": "markdown",
   "metadata": {},
   "source": [
    "### Turn left"
   ]
  },
  {
   "cell_type": "code",
   "execution_count": null,
   "metadata": {
    "collapsed": true
   },
   "outputs": [],
   "source": [
    "BrickPi.MotorSpeed[PORT_A] = -50\n",
    "BrickPi.MotorSpeed[PORT_D] =  50\n",
    "\n",
    "for i in range(10):\n",
    "    BrickPiUpdateValues()\n",
    "    time.sleep(0.1)\n",
    "\n",
    "BrickPi.MotorSpeed[PORT_A] = 0\n",
    "BrickPi.MotorSpeed[PORT_D] = 0\n",
    "BrickPiUpdateValues()"
   ]
  },
  {
   "cell_type": "markdown",
   "metadata": {},
   "source": [
    "<hr>\n",
    "<center>\n",
    "    <p>&copy; Enric Cervera 2017</p>\n",
    "    <p><a href=\"http://www.uji.es\"><img alt=\"Universitat Jaume I\" src=\"files/img/uji_logo.jpg\" /></a></p>\n",
    "    <p><a rel=\"license\" href=\"http://creativecommons.org/licenses/by-sa/4.0/\"><img alt=\"Creative Commons License\" style=\"border-width:0\" src=\"https://i.creativecommons.org/l/by-sa/4.0/88x31.png\" /></a><br />This work is licensed under a <a rel=\"license\" href=\"http://creativecommons.org/licenses/by-sa/4.0/\">Creative Commons Attribution-ShareAlike 4.0 International License</a>.</p>\n",
    "</center>"
   ]
  }
 ],
 "metadata": {
  "kernelspec": {
   "display_name": "Python 2",
   "language": "python",
   "name": "python2"
  },
  "language_info": {
   "codemirror_mode": {
    "name": "ipython",
    "version": 2
   },
   "file_extension": ".py",
   "mimetype": "text/x-python",
   "name": "python",
   "nbconvert_exporter": "python",
   "pygments_lexer": "ipython2",
   "version": "2.7.9"
  }
 },
 "nbformat": 4,
 "nbformat_minor": 1
}
