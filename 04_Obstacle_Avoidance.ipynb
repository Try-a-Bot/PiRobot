{
 "cells": [
  {
   "cell_type": "markdown",
   "metadata": {},
   "source": [
    "Task: Obstacle Avoidance\n",
    "==================\n",
    "\n",
    "In this task, the robot will move continuously while trying to avoid the obstacles detected with its ultrasonic sensor.\n",
    "\n",
    "Instead of stopping when an obstacle is detected, the robot will turn either left or right to avoid it, then it will try\n",
    "to move forward again.\n",
    "\n",
    "The program will repeat endlessly, until it is finished by pressing the Interrupt button.\n",
    "\n",
    "First, we initialize the motors and sensors, as in previous programs."
   ]
  },
  {
   "cell_type": "code",
   "execution_count": 1,
   "metadata": {},
   "outputs": [
    {
     "data": {
      "text/plain": [
       "0"
      ]
     },
     "execution_count": 1,
     "metadata": {},
     "output_type": "execute_result"
    }
   ],
   "source": [
    "from BrickPi import *\n",
    "BrickPiSetup()\n",
    "\n",
    "BrickPi.MotorEnable[PORT_A] = 1\n",
    "BrickPi.MotorEnable[PORT_D] = 1\n",
    "\n",
    "BrickPi.SensorType[PORT_3] = TYPE_SENSOR_ULTRASONIC_CONT\n",
    "BrickPiSetupSensors()"
   ]
  },
  {
   "cell_type": "markdown",
   "metadata": {},
   "source": [
    "Now, please place the robot on the floor to avoid falls from the table, and run the following code.\n",
    "\n",
    "Please read the comments, and ask the teacher if anythin is unclear."
   ]
  },
  {
   "cell_type": "code",
   "execution_count": 3,
   "metadata": {},
   "outputs": [],
   "source": [
    "try:\n",
    "    while True:                                  \n",
    "        BrickPi.MotorSpeed[PORT_A] = 50          #  the robot goes forward\n",
    "        BrickPi.MotorSpeed[PORT_D] = 50\n",
    "\n",
    "        while BrickPi.Sensor[PORT_3] > 20:       #  until an obstacle is detected\n",
    "            BrickPiUpdateValues()\n",
    "            time.sleep(0.1)\n",
    "\n",
    "        if random.random_sample() < 0.5:         #  flip a coin and\n",
    "            BrickPi.MotorSpeed[PORT_A] =  50     #  turn, either right\n",
    "            BrickPi.MotorSpeed[PORT_D] = -50\n",
    "        else:\n",
    "            BrickPi.MotorSpeed[PORT_A] = -50     #  or left\n",
    "            BrickPi.MotorSpeed[PORT_D] =  50\n",
    "        for i in range(10):                      #  for a short time\n",
    "            BrickPiUpdateValues()\n",
    "            time.sleep(0.1)\n",
    "\n",
    "except KeyboardInterrupt:                        # when interrupted, \n",
    "        BrickPi.MotorSpeed[PORT_A] = 0           # the robot stops\n",
    "        BrickPi.MotorSpeed[PORT_D] = 0           # and the program ends\n",
    "        BrickPiUpdateValues()"
   ]
  },
  {
   "cell_type": "markdown",
   "metadata": {},
   "source": [
    "* Does the robot detect all the obstacles?\n",
    "* Let's discuss among the groups the behavior of the robot, its shortcomings and possible improvements."
   ]
  },
  {
   "cell_type": "markdown",
   "metadata": {},
   "source": [
    "<hr>\n",
    "<center>\n",
    "    <p>&copy; Enric Cervera 2016</p>\n",
    "    <p><a href=\"http://www.uji.es\"><img alt=\"Universitat Jaume I\" src=\"files/img/uji_logo.jpg\" /></a></p>\n",
    "    <p><a rel=\"license\" href=\"http://creativecommons.org/licenses/by-sa/4.0/\"><img alt=\"Creative Commons License\" style=\"border-width:0\" src=\"https://i.creativecommons.org/l/by-sa/4.0/88x31.png\" /></a><br />This work is licensed under a <a rel=\"license\" href=\"http://creativecommons.org/licenses/by-sa/4.0/\">Creative Commons Attribution-ShareAlike 4.0 International License</a>.</p>\n",
    "</center>"
   ]
  }
 ],
 "metadata": {
  "kernelspec": {
   "display_name": "Python 2",
   "language": "python",
   "name": "python2"
  },
  "language_info": {
   "codemirror_mode": {
    "name": "ipython",
    "version": 2
   },
   "file_extension": ".py",
   "mimetype": "text/x-python",
   "name": "python",
   "nbconvert_exporter": "python",
   "pygments_lexer": "ipython2",
   "version": "2.7.9"
  }
 },
 "nbformat": 4,
 "nbformat_minor": 1
}
