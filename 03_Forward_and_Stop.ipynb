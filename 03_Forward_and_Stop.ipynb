{
 "cells": [
  {
   "cell_type": "markdown",
   "metadata": {},
   "source": [
    "<img src=\"files/img/task_forward_stop.jpg\" align=\"right\">\n",
    "\n",
    "Task: Move Forward and Stop\n",
    "===========================\n",
    "\n",
    "We are going to program our robot for a first simple task: the robot will move forward at a constant speed, until it detects an obstacle with the ultrasonic sensor. When the obstacle is detected below a given threshold, the robot will stop and the program will end.\n",
    "\n",
    "You must place the robot on any of the mats, and put a box in front of it at a distance of about 50 centimeters, as seen in the picture.\n",
    "\n",
    "First, we need to initialize the motors and sensors, as seen in the previous exercises."
   ]
  },
  {
   "cell_type": "code",
   "execution_count": null,
   "metadata": {},
   "outputs": [],
   "source": [
    "from BrickPi import *\n",
    "BrickPiSetup()\n",
    "BrickPi.MotorEnable[PORT_A] = 1\n",
    "BrickPi.MotorEnable[PORT_D] = 1\n",
    "BrickPi.SensorType[PORT_3] = TYPE_SENSOR_ULTRASONIC_CONT\n",
    "BrickPiSetupSensors()"
   ]
  },
  {
   "cell_type": "markdown",
   "metadata": {},
   "source": [
    "Next, we check the distance measured by the ultrasonic sensor."
   ]
  },
  {
   "cell_type": "code",
   "execution_count": null,
   "metadata": {},
   "outputs": [],
   "source": [
    "BrickPiUpdateValues()\n",
    "d = BrickPi.Sensor[PORT_3]\n",
    "print(d)"
   ]
  },
  {
   "cell_type": "markdown",
   "metadata": {},
   "source": [
    "Finally, we make the robot move forward. Instead of waiting for a fixed time, the program now checks the value of the ultrasonic sensor. While this value is greater than a given threshold, the robot keeps moving. When the value is lower than it, the loop ends and the program stops the motors, prints the distance at which thre robot has stopped, and finishes."
   ]
  },
  {
   "cell_type": "code",
   "execution_count": null,
   "metadata": {},
   "outputs": [],
   "source": [
    "BrickPi.MotorSpeed[PORT_A] = 30      # the robot moves forward\n",
    "BrickPi.MotorSpeed[PORT_D] = 30\n",
    "\n",
    "while BrickPi.Sensor[PORT_3] > 15:   # the ultrasonic sensor is read and compared\n",
    "    BrickPiUpdateValues()            # until its value is less than the threshold\n",
    "    time.sleep(0.05)\n",
    "\n",
    "BrickPi.MotorSpeed[PORT_A] = 0       # the robot stops\n",
    "BrickPi.MotorSpeed[PORT_D] = 0\n",
    "BrickPiUpdateValues()\n",
    "d = BrickPi.Sensor[PORT_3]           # the final distance is printed\n",
    "print(d)"
   ]
  },
  {
   "cell_type": "markdown",
   "metadata": {},
   "source": [
    "You can place the robot again at the starting point, and try the program with a different threshold. The robot should stop approximately at the given distance. Some mats have a distance scale drawn in the floor, which can be used as a reference.\n",
    "\n",
    "You may also try a faster speed. Does the robot stop at the given distance, or closer to the obstacle? Can you guess why?"
   ]
  },
  {
   "cell_type": "markdown",
   "metadata": {},
   "source": [
    "<hr>\n",
    "<center>\n",
    "    <p>&copy; Enric Cervera 2017</p>\n",
    "    <p><a href=\"http://www.uji.es\"><img alt=\"Universitat Jaume I\" src=\"files/img/uji_logo.jpg\" /></a></p>\n",
    "    <p><a rel=\"license\" href=\"http://creativecommons.org/licenses/by-sa/4.0/\"><img alt=\"Creative Commons License\" style=\"border-width:0\" src=\"https://i.creativecommons.org/l/by-sa/4.0/88x31.png\" /></a><br />This work is licensed under a <a rel=\"license\" href=\"http://creativecommons.org/licenses/by-sa/4.0/\">Creative Commons Attribution-ShareAlike 4.0 International License</a>.</p>\n",
    "</center>"
   ]
  }
 ],
 "metadata": {
  "kernelspec": {
   "display_name": "Python 2",
   "language": "python",
   "name": "python2"
  },
  "language_info": {
   "codemirror_mode": {
    "name": "ipython",
    "version": 2
   },
   "file_extension": ".py",
   "mimetype": "text/x-python",
   "name": "python",
   "nbconvert_exporter": "python",
   "pygments_lexer": "ipython2",
   "version": "2.7.9"
  }
 },
 "nbformat": 4,
 "nbformat_minor": 1
}
