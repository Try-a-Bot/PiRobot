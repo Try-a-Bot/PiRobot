{
 "metadata": {
  "name": "03_Forward_and_Stop"
 },
 "nbformat": 3,
 "nbformat_minor": 0,
 "worksheets": [
  {
   "cells": [
    {
     "cell_type": "markdown",
     "metadata": {},
     "source": "<img src=\"files/img/task_forward_stop.jpg\" align=\"right\">\n\nTask: Move Forward and Stop\n===========================\n\nWe are going to program our robot for a first simple task: the robot will move forward at a constant speed, until it detects an obstacle with the ultrasonic sensor. When the obstacle is detected below a given threshold, the robot will stop and the program will end.\n\nYou must place the robot on any of the mats, and put a box in front of it at a distance of about 50 centimeters, as seen in the picture.\n\nFirst, we need to initialize the motors and sensors, as seen in the previous exercises."
    },
    {
     "cell_type": "code",
     "collapsed": false,
     "input": "from BrickPi import *\nBrickPiSetup()\nBrickPi.MotorEnable[PORT_A] = 1\nBrickPi.MotorEnable[PORT_D] = 1\t\t\nBrickPi.SensorType[PORT_3] = TYPE_SENSOR_ULTRASONIC_CONT\nBrickPiSetupSensors()",
     "language": "python",
     "metadata": {},
     "outputs": [
      {
       "output_type": "pyout",
       "prompt_number": 1,
       "text": "0"
      }
     ],
     "prompt_number": 1
    },
    {
     "cell_type": "markdown",
     "metadata": {},
     "source": "Next, we check the distance measured by the ultrasonic sensor."
    },
    {
     "cell_type": "code",
     "collapsed": false,
     "input": "BrickPiUpdateValues()\nd = BrickPi.Sensor[PORT_3]\nprint(d)",
     "language": "python",
     "metadata": {},
     "outputs": [
      {
       "output_type": "stream",
       "stream": "stdout",
       "text": "35\n"
      }
     ],
     "prompt_number": 2
    },
    {
     "cell_type": "markdown",
     "metadata": {},
     "source": "Finally, we make the robot move forward. Instead of waiting for a fixed time, the program now checks the value of the ultrasonic sensor. While this value is greater than a given threshold, the robot keeps moving. When the value is lower than it, the loop ends and the program stops the motors, prints the distance at which thre robot has stopped, and finishes."
    },
    {
     "cell_type": "code",
     "collapsed": false,
     "input": "BrickPi.MotorSpeed[PORT_A] = 30      # the robot moves forward\nBrickPi.MotorSpeed[PORT_D] = 30\n\nwhile BrickPi.Sensor[PORT_3] > 15:   # the ultrasonic sensor is read and compared\n    BrickPiUpdateValues()            # until its value is less than the threshold\n    time.sleep(0.05)\n\nBrickPi.MotorSpeed[PORT_A] = 0       # the robot stops\nBrickPi.MotorSpeed[PORT_D] = 0\nBrickPiUpdateValues()\nd = BrickPi.Sensor[PORT_3]           # the final distance is printed\nprint(d)",
     "language": "python",
     "metadata": {},
     "outputs": [
      {
       "output_type": "stream",
       "stream": "stdout",
       "text": "15\n"
      }
     ],
     "prompt_number": 3
    },
    {
     "cell_type": "markdown",
     "metadata": {},
     "source": "You can place the robot again at the starting point, and try the program with a different threshold. The robot should stop approximately at the given distance. Some mats have a distance scale drawn in the floor, which can be used as a reference.\n\nYou may also try a faster speed. Does the robot stop at the given distance, or closer to the obstacle? Can you guess why?"
    },
    {
     "cell_type": "markdown",
     "metadata": {},
     "source": "<hr>\n<center>\n    <p>&copy; Enric Cervera 2016</p>\n    <p><a href=\"http://www.uji.es\"><img alt=\"Universitat Jaume I\" src=\"files/img/uji_logo.jpg\" /></a></p>\n    <p><a rel=\"license\" href=\"http://creativecommons.org/licenses/by-sa/4.0/\"><img alt=\"Creative Commons License\" style=\"border-width:0\" src=\"https://i.creativecommons.org/l/by-sa/4.0/88x31.png\" /></a><br />This work is licensed under a <a rel=\"license\" href=\"http://creativecommons.org/licenses/by-sa/4.0/\">Creative Commons Attribution-ShareAlike 4.0 International License</a>.</p>\n</center>"
    }
   ],
   "metadata": {}
  }
 ]
}