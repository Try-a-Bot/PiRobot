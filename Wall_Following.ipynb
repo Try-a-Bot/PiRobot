{
 "metadata": {
  "name": "Wall_Following"
 },
 "nbformat": 3,
 "nbformat_minor": 0,
 "worksheets": [
  {
   "cells": [
    {
     "cell_type": "code",
     "collapsed": false,
     "input": "from BrickPi import *\nBrickPiSetup()\n\nBrickPi.MotorEnable[PORT_A] = 1\nBrickPi.MotorEnable[PORT_D] = 1\t\t\n\nBrickPi.SensorType[PORT_4] = TYPE_SENSOR_RAW\n\nBrickPiSetupSensors()",
     "language": "python",
     "metadata": {},
     "outputs": [
      {
       "output_type": "pyout",
       "prompt_number": 1,
       "text": "0"
      }
     ],
     "prompt_number": 1
    },
    {
     "cell_type": "code",
     "collapsed": false,
     "input": "S = [760,680,445,350,297,266,248,230]\nD = [3, 4, 8, 12, 16, 20, 24, 38]\n\ndef interpolateDistance(V):\n    i = 0\n    while i < len(S) and S[i] > V:\n        i = i + 1\n    if i==0:\n        d = float(D[0])\n    elif i==len(S):\n        d = float(D[-1])\n    else:\n        SI = S[i-1]\n        SF = S[i]\n        DI = D[i-1]\n        DF = D[i]\n        d = DI + float(DF-DI)*(V-SI)/(SF-SI)\n    return d",
     "language": "python",
     "metadata": {},
     "outputs": []
    },
    {
     "cell_type": "code",
     "collapsed": false,
     "input": "try:\n    while True:\n        V = BrickPi.Sensor[PORT_4]\n        d = interpolateDistance(V)\n\n        if d>=5 and d<6:\n            BrickPi.MotorSpeed[PORT_A] = 30\n            BrickPi.MotorSpeed[PORT_D] = 30\n        elif d<5:\n            BrickPi.MotorSpeed[PORT_A] =  30\n            BrickPi.MotorSpeed[PORT_D] = -30\n        else:\n            BrickPi.MotorSpeed[PORT_A] = -30\n            BrickPi.MotorSpeed[PORT_D] =  30\n                \n        time.sleep(0.1)\n        BrickPiUpdateValues()\n\nexcept KeyboardInterrupt:\n        BrickPi.MotorSpeed[PORT_A] = 0\n        BrickPi.MotorSpeed[PORT_D] = 0\n        BrickPiUpdateValues()",
     "language": "python",
     "metadata": {},
     "outputs": [],
     "prompt_number": 4
    },
    {
     "cell_type": "code",
     "collapsed": false,
     "input": "",
     "language": "python",
     "metadata": {},
     "outputs": []
    }
   ],
   "metadata": {}
  }
 ]
}