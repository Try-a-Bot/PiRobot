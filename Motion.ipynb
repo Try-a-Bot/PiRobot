{
 "metadata": {
  "name": "Motion"
 },
 "nbformat": 3,
 "nbformat_minor": 0,
 "worksheets": [
  {
   "cells": [
    {
     "cell_type": "markdown",
     "metadata": {},
     "source": "<img src=\"files/img/nxt_motor.jpg\" align=\"right\">\n\nMotors\n======\n\nThe robot has two motors, connected to the left and right wheels. Each motor can turn forward and backward independently, thus allowing the robot to move forward, backward, turn left or right.\n\nThe motors are connected to ports MA and MD of the controller board. First, the program needs to enable the motors on the corresponding ports."
    },
    {
     "cell_type": "code",
     "collapsed": false,
     "input": "from BrickPi import *\nBrickPiSetup()\nBrickPi.MotorEnable[PORT_A] = 1\nBrickPi.MotorEnable[PORT_D] = 1",
     "language": "python",
     "metadata": {},
     "outputs": [],
     "prompt_number": 1
    },
    {
     "cell_type": "markdown",
     "metadata": {},
     "source": "<img src=\"files/img/robot_steering.png\" align=\"right\">\nNow, you can send commands for moving the robot, by setting the speed on each motor. \n\nThe values can be positive (forward) or negative (backward), ranging from +50 to -50. \n\nObviously, a larger value makes the motor turn faster, yet there is not a strictly proportional relationship. \n\nBelow you will find the code for moving the robots in four different ways (forward, backward, turn left, turn right). \n\nYou can experiment with intermediate values on each motor, to make the robot describe different trajectories, as shown in the figure."
    },
    {
     "cell_type": "heading",
     "level": 3,
     "metadata": {},
     "source": "Forward"
    },
    {
     "cell_type": "markdown",
     "metadata": {},
     "source": "For making the robot move, you need to set up each motor speed with some value different from zero. The motors will start to turn, and the program must wait for some time, to allow the robot to move. Finally, the motor speeds are set again to zero, to stop the robot."
    },
    {
     "cell_type": "code",
     "collapsed": false,
     "input": "BrickPi.MotorSpeed[PORT_A] = 50      # make both motors turn\nBrickPi.MotorSpeed[PORT_D] = 50\n\nfor i in range(25):                  # wait for 2.5 seconds\n    BrickPiUpdateValues()            # (25 times 0.1 seconds)\n    time.sleep(0.1)                  \n\nBrickPi.MotorSpeed[PORT_A] = 0       # stop both motors\nBrickPi.MotorSpeed[PORT_D] = 0\nBrickPiUpdateValues()",
     "language": "python",
     "metadata": {},
     "outputs": [
      {
       "output_type": "pyout",
       "prompt_number": 2,
       "text": "0"
      }
     ],
     "prompt_number": 2
    },
    {
     "cell_type": "heading",
     "level": 3,
     "metadata": {},
     "source": "Backward"
    },
    {
     "cell_type": "code",
     "collapsed": false,
     "input": "BrickPi.MotorSpeed[PORT_A] = -50\nBrickPi.MotorSpeed[PORT_D] = -50\n\nfor i in range(25):\n    BrickPiUpdateValues()\n    time.sleep(0.1)\n\nBrickPi.MotorSpeed[PORT_A] = 0\nBrickPi.MotorSpeed[PORT_D] = 0\nBrickPiUpdateValues()",
     "language": "python",
     "metadata": {},
     "outputs": [
      {
       "output_type": "pyout",
       "prompt_number": 3,
       "text": "0"
      }
     ],
     "prompt_number": 3
    },
    {
     "cell_type": "heading",
     "level": 3,
     "metadata": {},
     "source": "Turn right"
    },
    {
     "cell_type": "code",
     "collapsed": false,
     "input": "BrickPi.MotorSpeed[PORT_A] =  50\nBrickPi.MotorSpeed[PORT_D] = -50\n\nfor i in range(10):\n    BrickPiUpdateValues()\n    time.sleep(0.1)\n\nBrickPi.MotorSpeed[PORT_A] = 0\nBrickPi.MotorSpeed[PORT_D] = 0\nBrickPiUpdateValues()",
     "language": "python",
     "metadata": {},
     "outputs": [
      {
       "output_type": "pyout",
       "prompt_number": 4,
       "text": "0"
      }
     ],
     "prompt_number": 4
    },
    {
     "cell_type": "heading",
     "level": 3,
     "metadata": {},
     "source": "Turn left"
    },
    {
     "cell_type": "code",
     "collapsed": false,
     "input": "BrickPi.MotorSpeed[PORT_A] = -50\nBrickPi.MotorSpeed[PORT_D] =  50\n\nfor i in range(10):\n    BrickPiUpdateValues()\n    time.sleep(0.1)\n\nBrickPi.MotorSpeed[PORT_A] = 0\nBrickPi.MotorSpeed[PORT_D] = 0\nBrickPiUpdateValues()",
     "language": "python",
     "metadata": {},
     "outputs": [
      {
       "output_type": "pyout",
       "prompt_number": 5,
       "text": "0"
      }
     ],
     "prompt_number": 5
    },
    {
     "cell_type": "markdown",
     "metadata": {},
     "source": "<hr>\n<center>\n    <p>&copy; Enric Cervera 2016</p>\n    <p><a href=\"http://www.uji.es\"><img alt=\"Universitat Jaume I\" src=\"files/img/uji_logo.jpg\" /></a></p>\n    <p><a rel=\"license\" href=\"http://creativecommons.org/licenses/by-sa/4.0/\"><img alt=\"Creative Commons License\" style=\"border-width:0\" src=\"https://i.creativecommons.org/l/by-sa/4.0/88x31.png\" /></a><br />This work is licensed under a <a rel=\"license\" href=\"http://creativecommons.org/licenses/by-sa/4.0/\">Creative Commons Attribution-ShareAlike 4.0 International License</a>.</p>\n</center>"
    }
   ],
   "metadata": {}
  }
 ]
}