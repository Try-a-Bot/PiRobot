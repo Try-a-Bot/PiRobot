{
 "metadata": {
  "name": "Motion"
 },
 "nbformat": 3,
 "nbformat_minor": 0,
 "worksheets": [
  {
   "cells": [
    {
     "cell_type": "heading",
     "level": 3,
     "metadata": {},
     "source": "Initiazlization"
    },
    {
     "cell_type": "code",
     "collapsed": false,
     "input": "from BrickPi import *\nBrickPiSetup()\nBrickPi.MotorEnable[PORT_A] = 1\nBrickPi.MotorEnable[PORT_D] = 1",
     "language": "python",
     "metadata": {},
     "outputs": [],
     "prompt_number": 1
    },
    {
     "cell_type": "heading",
     "level": 3,
     "metadata": {},
     "source": "Forward"
    },
    {
     "cell_type": "code",
     "collapsed": false,
     "input": "BrickPi.MotorSpeed[PORT_A] = 30\nBrickPi.MotorSpeed[PORT_D] = 30\n\nfor i in range(25):\n    BrickPiUpdateValues()\n    time.sleep(0.1)\n\nBrickPi.MotorSpeed[PORT_A] = 0\nBrickPi.MotorSpeed[PORT_D] = 0\nBrickPiUpdateValues()",
     "language": "python",
     "metadata": {},
     "outputs": [
      {
       "output_type": "pyout",
       "prompt_number": 2,
       "text": "0"
      }
     ],
     "prompt_number": 2
    },
    {
     "cell_type": "heading",
     "level": 3,
     "metadata": {},
     "source": "Backward"
    },
    {
     "cell_type": "code",
     "collapsed": false,
     "input": "BrickPi.MotorSpeed[PORT_A] = -30\nBrickPi.MotorSpeed[PORT_D] = -30\n\nfor i in range(25):\n    BrickPiUpdateValues()\n    time.sleep(0.1)\n\nBrickPi.MotorSpeed[PORT_A] = 0\nBrickPi.MotorSpeed[PORT_D] = 0\nBrickPiUpdateValues()",
     "language": "python",
     "metadata": {},
     "outputs": [
      {
       "output_type": "pyout",
       "prompt_number": 3,
       "text": "0"
      }
     ],
     "prompt_number": 3
    },
    {
     "cell_type": "heading",
     "level": 3,
     "metadata": {},
     "source": "Turn right"
    },
    {
     "cell_type": "code",
     "collapsed": false,
     "input": "BrickPi.MotorSpeed[PORT_A] =  30\nBrickPi.MotorSpeed[PORT_D] = -30\n\nfor i in range(20):\n    BrickPiUpdateValues()\n    time.sleep(0.1)\n\nBrickPi.MotorSpeed[PORT_A] = 0\nBrickPi.MotorSpeed[PORT_D] = 0\nBrickPiUpdateValues()",
     "language": "python",
     "metadata": {},
     "outputs": [
      {
       "output_type": "pyout",
       "prompt_number": 4,
       "text": "0"
      }
     ],
     "prompt_number": 4
    },
    {
     "cell_type": "heading",
     "level": 3,
     "metadata": {},
     "source": "Turn left"
    },
    {
     "cell_type": "code",
     "collapsed": false,
     "input": "BrickPi.MotorSpeed[PORT_A] = -30\nBrickPi.MotorSpeed[PORT_D] =  30\n\nfor i in range(20):\n    BrickPiUpdateValues()\n    time.sleep(0.1)\n\nBrickPi.MotorSpeed[PORT_A] = 0\nBrickPi.MotorSpeed[PORT_D] = 0\nBrickPiUpdateValues()",
     "language": "python",
     "metadata": {},
     "outputs": [
      {
       "output_type": "pyout",
       "prompt_number": 5,
       "text": "0"
      }
     ],
     "prompt_number": 5
    },
    {
     "cell_type": "code",
     "collapsed": false,
     "input": "",
     "language": "python",
     "metadata": {},
     "outputs": []
    }
   ],
   "metadata": {}
  }
 ]
}