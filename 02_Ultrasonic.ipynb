{
 "cells": [
  {
   "cell_type": "markdown",
   "metadata": {},
   "source": [
    "Ultrasonic Sensor\n",
    "===============\n",
    "<img src=\"files/img/NXT-Ultrasonic-Sensor.png\" align=\"left\">\n",
    "The Ultrasonic Sensor enables your robot to detect objects. \n",
    "\n",
    "It measures distance in centimeters, ranging from 0 to 255 with a precision of +/- 3 cm.\n",
    "\n",
    "The Ultrasonic Sensor uses the same scientific principle as bats: it measures distance by calculating the time it takes for a sound wave to hit an object and return – just like an echo. Large sized objects with hard surfaces return the best readings. Objects made of soft fabric or that are curved [like a ball] or are very thin or small can be difficult for the sensor to detect.\n",
    "\n",
    "* Note that two or more Ultrasonic Sensors operating in the same room may interrupt each other’s readings."
   ]
  },
  {
   "cell_type": "markdown",
   "metadata": {},
   "source": [
    "First, let's initialize the ultrasonic sensor that is connected to port S3 in the BrickPi."
   ]
  },
  {
   "cell_type": "code",
   "execution_count": null,
   "metadata": {},
   "outputs": [],
   "source": [
    "from BrickPi import *\n",
    "BrickPiSetup()\n",
    "BrickPi.SensorType[PORT_3] = TYPE_SENSOR_ULTRASONIC_CONT\n",
    "BrickPiSetupSensors()"
   ]
  },
  {
   "cell_type": "markdown",
   "metadata": {},
   "source": [
    "Now, let's make one measurement; the resulting number is the distance in centimeters to an obstacle in the front."
   ]
  },
  {
   "cell_type": "code",
   "execution_count": null,
   "metadata": {},
   "outputs": [],
   "source": [
    "BrickPiUpdateValues()\n",
    "d = BrickPi.Sensor[PORT_3]\n",
    "print(d)"
   ]
  },
  {
   "cell_type": "markdown",
   "metadata": {},
   "source": [
    "If no obstacle is detected, the value 255 is returned.\n",
    "\n",
    "If the value is -1, something wrong happened. Please try again, or ask the teacher.\n",
    "<hr>\n",
    "For visualization purposes, let's define a short function for plotting the sensor image and the distance as a triangle."
   ]
  },
  {
   "cell_type": "code",
   "execution_count": null,
   "metadata": {
    "collapsed": true
   },
   "outputs": [],
   "source": [
    "%matplotlib inline\n",
    "from matplotlib.pyplot import *\n",
    "\n",
    "ultra_img = imread('img/ultrasonic.png')\n",
    "\n",
    "def drawUltrasonic(d):\n",
    "    imshow(ultra_img)\n",
    "    hold(True)\n",
    "    plot([48,48+8*d,48+8*d,48],[29,29+d/4,29-d/4,29])\n",
    "    axis([0,400,0,60])\n",
    "    axis('off')\n",
    "    hold(False)"
   ]
  },
  {
   "cell_type": "markdown",
   "metadata": {},
   "source": [
    "Let's visualize a measurement. Put an obstacle (your hand, a book) in front of the robot and refresh the plot by pressing Ctrl+Enter."
   ]
  },
  {
   "cell_type": "code",
   "execution_count": null,
   "metadata": {},
   "outputs": [],
   "source": [
    "BrickPiUpdateValues()\n",
    "d = BrickPi.Sensor[PORT_3]\n",
    "drawUltrasonic(d)"
   ]
  },
  {
   "cell_type": "markdown",
   "metadata": {},
   "source": [
    "We can add a few more lines for repeating automatically the measurement process (this is called a **loop** in programming).\n",
    "\n",
    "For stopping the loop, you should click the **Interrupt** button in the notebook menu.\n",
    "\n",
    "![](files/img/interrupt_button.png)"
   ]
  },
  {
   "cell_type": "code",
   "execution_count": null,
   "metadata": {},
   "outputs": [],
   "source": [
    "from IPython.display import display, clear_output\n",
    "try:\n",
    "    while True:\n",
    "        BrickPiUpdateValues()\n",
    "        d = BrickPi.Sensor[PORT_3]\n",
    "        drawUltrasonic(d)\n",
    "        display(gcf())\n",
    "        clear_output(wait=True)\n",
    "        time.sleep(1)\n",
    "except KeyboardInterrupt:\n",
    "    clf();"
   ]
  },
  {
   "cell_type": "markdown",
   "metadata": {},
   "source": [
    "Congratulations! You have successfully learnt about the ultrasonic sensors. Now you are ready to program the robot for a simple task with the sensor.\n",
    "<hr>\n",
    "<center>\n",
    "    <p>&copy; Enric Cervera 2017</p>\n",
    "    <p><a href=\"http://www.uji.es\"><img alt=\"Universitat Jaume I\" src=\"img/uji_new_logo.png\" /></a></p>\n",
    "    <p><a rel=\"license\" href=\"http://creativecommons.org/licenses/by-sa/4.0/\"><img alt=\"Creative Commons License\" style=\"border-width:0\" src=\"https://i.creativecommons.org/l/by-sa/4.0/88x31.png\" /></a><br />This work is licensed under a <a rel=\"license\" href=\"http://creativecommons.org/licenses/by-sa/4.0/\">Creative Commons Attribution-ShareAlike 4.0 International License</a>.</p>\n",
    "</center>"
   ]
  }
 ],
 "metadata": {
  "kernelspec": {
   "display_name": "Python 2",
   "language": "python",
   "name": "python2"
  },
  "language_info": {
   "codemirror_mode": {
    "name": "ipython",
    "version": 2
   },
   "file_extension": ".py",
   "mimetype": "text/x-python",
   "name": "python",
   "nbconvert_exporter": "python",
   "pygments_lexer": "ipython2",
   "version": "2.7.9"
  }
 },
 "nbformat": 4,
 "nbformat_minor": 1
}
