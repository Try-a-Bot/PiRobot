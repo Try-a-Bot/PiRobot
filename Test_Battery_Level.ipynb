{
 "cells": [
  {
   "cell_type": "code",
   "execution_count": 1,
   "metadata": {},
   "outputs": [
    {
     "ename": "IOError",
     "evalue": "[Errno 13] Permission denied",
     "output_type": "error",
     "traceback": [
      "\u001b[0;31m---------------------------------------------------------------------------\u001b[0m",
      "\u001b[0;31mIOError\u001b[0m                                   Traceback (most recent call last)",
      "\u001b[0;32m<ipython-input-1-d06fe98c1817>\u001b[0m in \u001b[0;36m<module>\u001b[0;34m()\u001b[0m\n\u001b[1;32m      1\u001b[0m \u001b[0;32mimport\u001b[0m \u001b[0msmbus\u001b[0m\u001b[0;34m\u001b[0m\u001b[0m\n\u001b[1;32m      2\u001b[0m \u001b[0;34m\u001b[0m\u001b[0m\n\u001b[0;32m----> 3\u001b[0;31m \u001b[0mbus\u001b[0m \u001b[0;34m=\u001b[0m \u001b[0msmbus\u001b[0m\u001b[0;34m.\u001b[0m\u001b[0mSMBus\u001b[0m\u001b[0;34m(\u001b[0m\u001b[0;36m1\u001b[0m\u001b[0;34m)\u001b[0m            \u001b[0;31m# SMBUS 1 because we're using greater than V1.\u001b[0m\u001b[0;34m\u001b[0m\u001b[0m\n\u001b[0m\u001b[1;32m      4\u001b[0m \u001b[0maddress\u001b[0m \u001b[0;34m=\u001b[0m \u001b[0;36m0x48\u001b[0m\u001b[0;34m\u001b[0m\u001b[0m\n\u001b[1;32m      5\u001b[0m \u001b[0;31m# read data from i2c bus. the 0 command is mandatory for the protocol but not used in this chip.\u001b[0m\u001b[0;34m\u001b[0m\u001b[0;34m\u001b[0m\u001b[0m\n",
      "\u001b[0;31mIOError\u001b[0m: [Errno 13] Permission denied"
     ]
    }
   ],
   "source": [
    "import smbus\n",
    "\n",
    "bus = smbus.SMBus(1)            # SMBUS 1 because we're using greater than V1.\n",
    "address = 0x48\n",
    "# read data from i2c bus. the 0 command is mandatory for the protocol but not used in this chip.\n",
    "data = bus.read_word_data(address, 0)\n",
    "\n",
    "# from this data we need the last 4 bits and the first 6.\n",
    "last_4 = data & 0b1111 # using a bit mask\n",
    "first_6 = data >> 10 # left shift 10 because data is 16 bits\n",
    "\n",
    "# together they make the voltage conversion ratio\n",
    "# to make it all easier the last_4 bits are most significant :S\n",
    "vratio = (last_4 << 6) | first_6\n",
    "\n",
    "# Now we can calculate the battery voltage like so:\n",
    "ratio = 0.01818     # this is 0.1/5.5V Still have to find out why...\n",
    "voltage = vratio * ratio"
   ]
  },
  {
   "cell_type": "code",
   "execution_count": null,
   "metadata": {},
   "outputs": [],
   "source": []
  }
 ],
 "metadata": {
  "kernelspec": {
   "display_name": "Python 2",
   "language": "python",
   "name": "python2"
  },
  "language_info": {
   "codemirror_mode": {
    "name": "ipython",
    "version": 2
   },
   "file_extension": ".py",
   "mimetype": "text/x-python",
   "name": "python",
   "nbconvert_exporter": "python",
   "pygments_lexer": "ipython2",
   "version": "2.7.9"
  }
 },
 "nbformat": 4,
 "nbformat_minor": 1
}
