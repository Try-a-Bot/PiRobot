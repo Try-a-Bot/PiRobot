{
 "cells": [
  {
   "cell_type": "code",
   "execution_count": null,
   "metadata": {},
   "outputs": [],
   "source": [
    "import time\n",
    "import picamera\n",
    "import picamera.array\n",
    "import modules.candle as candle\n",
    "\n",
    "camera = picamera.PiCamera()\n",
    "time.sleep(1)\n",
    "stream = picamera.array.PiRGBArray(camera)"
   ]
  },
  {
   "cell_type": "code",
   "execution_count": null,
   "metadata": {},
   "outputs": [],
   "source": [
    "stream.truncate(0)\n",
    "camera.capture(stream, format='rgb')\n",
    "image = stream.array\n",
    "imshow(image)\n",
    "\n",
    "found,x,y,w,h = candle.position(image)\n",
    "if found:\n",
    "    print('Candle bounding box: (x,y)=(%d,%d), w=%d, h=%d ' % (x,y,w,h))\n",
    "    plot([x,x+w,x+w,x,x],[y,y,y+h,y+h,y],'y-')\n",
    "    lit = candle.state(image,x,y,w,h)\n",
    "    if lit:\n",
    "        print('It seems to be ON')\n",
    "    else:\n",
    "        print('It seems to be OFF')\n",
    "else:\n",
    "    print('Candle not found')\n"
   ]
  },
  {
   "cell_type": "markdown",
   "metadata": {},
   "source": [
    "<hr>\n",
    "<center>\n",
    "    <p>&copy; Enric Cervera 2016</p>\n",
    "    <p><a href=\"http://www.uji.es\"><img alt=\"Universitat Jaume I\" src=\"files/img/uji_logo.jpg\" /></a></p>\n",
    "    <p><a rel=\"license\" href=\"http://creativecommons.org/licenses/by-sa/4.0/\"><img alt=\"Creative Commons License\" style=\"border-width:0\" src=\"https://i.creativecommons.org/l/by-sa/4.0/88x31.png\" /></a><br />This work is licensed under a <a rel=\"license\" href=\"http://creativecommons.org/licenses/by-sa/4.0/\">Creative Commons Attribution-ShareAlike 4.0 International License</a>.</p>\n",
    "</center>"
   ]
  }
 ],
 "metadata": {
  "kernelspec": {
   "display_name": "Python 2",
   "language": "python",
   "name": "python2"
  },
  "language_info": {
   "codemirror_mode": {
    "name": "ipython",
    "version": 2
   },
   "file_extension": ".py",
   "mimetype": "text/x-python",
   "name": "python",
   "nbconvert_exporter": "python",
   "pygments_lexer": "ipython2",
   "version": "2.7.9"
  }
 },
 "nbformat": 4,
 "nbformat_minor": 1
}
