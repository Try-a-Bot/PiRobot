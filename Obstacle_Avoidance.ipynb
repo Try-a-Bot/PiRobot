{
 "metadata": {
  "name": "Obstacle_Avoidance"
 },
 "nbformat": 3,
 "nbformat_minor": 0,
 "worksheets": [
  {
   "cells": [
    {
     "cell_type": "code",
     "collapsed": false,
     "input": "from BrickPi import *\nBrickPiSetup()\n\nBrickPi.MotorEnable[PORT_A] = 1\nBrickPi.MotorEnable[PORT_D] = 1\t\t\n\nBrickPi.SensorType[PORT_3] = TYPE_SENSOR_ULTRASONIC_CONT\nBrickPiSetupSensors()",
     "language": "python",
     "metadata": {},
     "outputs": [
      {
       "output_type": "pyout",
       "prompt_number": 1,
       "text": "0"
      }
     ],
     "prompt_number": 1
    },
    {
     "cell_type": "code",
     "collapsed": false,
     "input": "try:\n    while True:\n        BrickPi.MotorSpeed[PORT_A] = 30\n        BrickPi.MotorSpeed[PORT_D] = 30\n\n        while BrickPi.Sensor[PORT_3] > 25:\n            BrickPiUpdateValues()\n            time.sleep(0.1)\n\n        if random.random_sample() < 0.5:\n            BrickPi.MotorSpeed[PORT_A] =  30\n            BrickPi.MotorSpeed[PORT_D] = -30\n        else:\n            BrickPi.MotorSpeed[PORT_A] = -30\n            BrickPi.MotorSpeed[PORT_D] =  30\n        for i in range(20):\n            BrickPiUpdateValues()\n            time.sleep(0.1)\n\nexcept KeyboardInterrupt:\n        BrickPi.MotorSpeed[PORT_A] = 0\n        BrickPi.MotorSpeed[PORT_D] = 0\n        BrickPiUpdateValues()",
     "language": "python",
     "metadata": {},
     "outputs": [],
     "prompt_number": 3
    },
    {
     "cell_type": "code",
     "collapsed": false,
     "input": "",
     "language": "python",
     "metadata": {},
     "outputs": []
    }
   ],
   "metadata": {}
  }
 ]
}