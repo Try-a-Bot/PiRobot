{
 "metadata": {
  "name": "08_Wall_Following"
 },
 "nbformat": 3,
 "nbformat_minor": 0,
 "worksheets": [
  {
   "cells": [
    {
     "cell_type": "code",
     "collapsed": false,
     "input": "from BrickPi import *\nBrickPiSetup()\n\nBrickPi.MotorEnable[PORT_A] = 1\nBrickPi.MotorEnable[PORT_D] = 1\t\t\n\nBrickPi.SensorType[PORT_4] = TYPE_SENSOR_RAW\n\nBrickPiSetupSensors()",
     "language": "python",
     "metadata": {},
     "outputs": [
      {
       "output_type": "pyout",
       "prompt_number": 1,
       "text": "0"
      }
     ],
     "prompt_number": 1
    },
    {
     "cell_type": "code",
     "collapsed": false,
     "input": "S = [760,680,445,350,297,266,248,230]\nD = [3, 4, 8, 12, 16, 20, 24, 38]\n\ndef interpolateDistance(V):\n    i = 0\n    while i < len(S) and S[i] > V:\n        i = i + 1\n    if i==0:\n        d = float(D[0])\n    elif i==len(S):\n        d = float(D[-1])\n    else:\n        SI = S[i-1]\n        SF = S[i]\n        DI = D[i-1]\n        DF = D[i]\n        d = DI + float(DF-DI)*(V-SI)/(SF-SI)\n    return d",
     "language": "python",
     "metadata": {},
     "outputs": [],
     "prompt_number": 2
    },
    {
     "cell_type": "code",
     "collapsed": false,
     "input": "from IPython.display import clear_output\nerrors = []\ntry:\n    while True:\n        clear_output()\n        V = BrickPi.Sensor[PORT_4]\n        if V is None:\n            print(\"ERROR: V is None\")\n        elif V > 1000 or V < 100:\n            print(\"ERROR: V = %d\" % V)\n            errors.append(V)\n            BrickPiSetupSensors()\n            BrickPi.MotorSpeed[PORT_A] = 0\n            BrickPi.MotorSpeed[PORT_D] = 0\n        else:\n            d = interpolateDistance(V)\n            print(V,d)\n            if d>=16 and d<19:\n                BrickPi.MotorSpeed[PORT_A] = 60\n                BrickPi.MotorSpeed[PORT_D] = 60\n            elif d<16:\n                BrickPi.MotorSpeed[PORT_A] =  0\n                BrickPi.MotorSpeed[PORT_D] = 60\n            else:\n                BrickPi.MotorSpeed[PORT_A] =  60\n                BrickPi.MotorSpeed[PORT_D] =  40\n                \n        time.sleep(0.01)\n        BrickPiUpdateValues()\n\nexcept KeyboardInterrupt:\n        print(\"Errors: %d\" % len(errors))\n        print(errors)",
     "language": "python",
     "metadata": {},
     "outputs": [
      {
       "output_type": "stream",
       "stream": "stdout",
       "text": "(135, 38.0)\nErrors: 3\n[1023, 1023, 1023]\n"
      }
     ],
     "prompt_number": 8
    },
    {
     "cell_type": "code",
     "collapsed": false,
     "input": "",
     "language": "python",
     "metadata": {},
     "outputs": []
    }
   ],
   "metadata": {}
  }
 ]
}