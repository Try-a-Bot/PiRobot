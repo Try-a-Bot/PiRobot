{
 "cells": [
  {
   "cell_type": "code",
   "execution_count": null,
   "metadata": {},
   "outputs": [],
   "source": [
    "from BrickPi import *\n",
    "BrickPiSetup()\n",
    "\n",
    "BrickPi.MotorEnable[PORT_A] = 1\n",
    "BrickPi.MotorEnable[PORT_D] = 1\t\t\n",
    "\n",
    "BrickPi.SensorType[PORT_4] = TYPE_SENSOR_RAW\n",
    "\n",
    "BrickPiSetupSensors()"
   ]
  },
  {
   "cell_type": "code",
   "execution_count": null,
   "metadata": {},
   "outputs": [],
   "source": [
    "S = [760,680,445,350,297,266,248,230]\n",
    "D = [3, 4, 8, 12, 16, 20, 24, 38]\n",
    "\n",
    "def interpolateDistance(V):\n",
    "    i = 0\n",
    "    while i < len(S) and S[i] > V:\n",
    "        i = i + 1\n",
    "    if i==0:\n",
    "        d = float(D[0])\n",
    "    elif i==len(S):\n",
    "        d = float(D[-1])\n",
    "    else:\n",
    "        SI = S[i-1]\n",
    "        SF = S[i]\n",
    "        DI = D[i-1]\n",
    "        DF = D[i]\n",
    "        d = DI + float(DF-DI)*(V-SI)/(SF-SI)\n",
    "    return d"
   ]
  },
  {
   "cell_type": "code",
   "execution_count": null,
   "metadata": {},
   "outputs": [],
   "source": [
    "from IPython.display import clear_output\n",
    "errors = []\n",
    "try:\n",
    "    while True:\n",
    "        clear_output()\n",
    "        V = BrickPi.Sensor[PORT_4]\n",
    "        if V is None:\n",
    "            print(\"ERROR: V is None\")\n",
    "        elif V > 1000 or V < 100:\n",
    "            print(\"ERROR: V = %d\" % V)\n",
    "            errors.append(V)\n",
    "            BrickPiSetupSensors()\n",
    "            BrickPi.MotorSpeed[PORT_A] = 0\n",
    "            BrickPi.MotorSpeed[PORT_D] = 0\n",
    "        else:\n",
    "            d = interpolateDistance(V)\n",
    "            print(V,d)\n",
    "            if d>=16 and d<19:\n",
    "                BrickPi.MotorSpeed[PORT_A] = 60\n",
    "                BrickPi.MotorSpeed[PORT_D] = 60\n",
    "            elif d<16:\n",
    "                BrickPi.MotorSpeed[PORT_A] =  0\n",
    "                BrickPi.MotorSpeed[PORT_D] = 60\n",
    "            else:\n",
    "                BrickPi.MotorSpeed[PORT_A] =  60\n",
    "                BrickPi.MotorSpeed[PORT_D] =  40\n",
    "                \n",
    "        time.sleep(0.01)\n",
    "        BrickPiUpdateValues()\n",
    "\n",
    "except KeyboardInterrupt:\n",
    "        print(\"Errors: %d\" % len(errors))\n",
    "        print(errors)"
   ]
  },
  {
   "cell_type": "code",
   "execution_count": null,
   "metadata": {},
   "outputs": [],
   "source": []
  }
 ],
 "metadata": {
  "kernelspec": {
   "display_name": "Python 2",
   "language": "python",
   "name": "python2"
  },
  "language_info": {
   "codemirror_mode": {
    "name": "ipython",
    "version": 2
   },
   "file_extension": ".py",
   "mimetype": "text/x-python",
   "name": "python",
   "nbconvert_exporter": "python",
   "pygments_lexer": "ipython2",
   "version": "2.7.9"
  }
 },
 "nbformat": 4,
 "nbformat_minor": 1
}
