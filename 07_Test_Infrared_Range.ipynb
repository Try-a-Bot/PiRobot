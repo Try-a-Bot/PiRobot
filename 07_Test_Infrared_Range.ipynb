{
 "cells": [
  {
   "cell_type": "markdown",
   "metadata": {},
   "source": [
    "Infrared Range Sensor\n",
    "===============\n",
    "<img src=\"files/img/gp2d120_output.png\" align=\"right\">\n",
    "<img src=\"files/img/gp2d12.jpg\" align=\"left\">\n",
    "The Infrared Range Sensor enables your robot to detect objects. Unlike ultrasonic sensors, which use sound waves to measure distance, the IR Range Sensor uses infrared light. On one side of the sensor an infrared LED shines a beam of light, which is reflected back by the closest object, and detected by the receiver on the other side of the sensor. The sensor then uses a method called triangulation to determine how far away the object was.\n",
    "<p>The basis for triangulation is that objects at different distances will reflect the infrared beam back to the receiver at different angles. The varying angles produce different voltage levels in the sensor, and in turn sensor values that can be used to calculate distance. See below:</p>\n",
    "<p align=\"center\"><img src=\"files/img/triangulation.png\"></p>\n",
    "<p>The IR Range Sensor provides very reliable distance values ranging from 4 to 30 centimeters away. One big advantage with using the IR Range Sensor is that it's not affected by soft or angled objects that cause the ultrasonic sensor to fail.</p>\n",
    "<p>One challenge with using the sensor is that the raw values provided do not directly correlate to useful distance values, and they're also non-linear (see figure at the right). This means that we must perform a calculation on the raw sensor data first.</p>\n",
    "<p>One additional challenge is that we can't directly access the voltage returned by the sensor in our program. What we can access is the sensor value, which is proportional to the voltage - we'll just have to take a conversion factor into account.</p>"
   ]
  },
  {
   "cell_type": "markdown",
   "metadata": {},
   "source": [
    "First, let's initialize the IR Range sensor that is connected to port S4 in the BrickPi."
   ]
  },
  {
   "cell_type": "code",
   "execution_count": null,
   "metadata": {
    "collapsed": true
   },
   "outputs": [],
   "source": [
    "from BrickPi import *\n",
    "BrickPiSetup()\n",
    "BrickPi.SensorType[PORT_4] = TYPE_SENSOR_RAW\n",
    "BrickPiSetupSensors()"
   ]
  },
  {
   "cell_type": "markdown",
   "metadata": {},
   "source": [
    "Now, let's make one measurement; the resulting number is proportional to the voltage signal, which in turn is related to the distance to an obstacle in the front, according to the graph presented before."
   ]
  },
  {
   "cell_type": "code",
   "execution_count": null,
   "metadata": {
    "collapsed": true
   },
   "outputs": [],
   "source": [
    "BrickPiUpdateValues()\n",
    "V = BrickPi.Sensor[PORT_4]\n",
    "print(V)"
   ]
  },
  {
   "cell_type": "markdown",
   "metadata": {},
   "source": [
    "If no obstacle is detected, a low value around 137 is returned.\n",
    "\n",
    "The maximum value, around 755, is returned when an object is very close to the sensor, 2-3 cm.\n",
    "\n",
    "If the value is 1023, something wrong happened. Please try again, or ask the teacher.\n"
   ]
  },
  {
   "cell_type": "markdown",
   "metadata": {},
   "source": [
    "Calibration\n",
    "===========\n",
    "During the testing, you will notice that the sensors’ outputs are not in perfect accordance with the\n",
    "measuring characteristics graphs. Even two pieces of the same type of sensor return different values\n",
    "for the same actual obstacle distance. Thus it is necessary to perform some calibration.\n",
    "\n",
    "A good method is to simply make a table of points (sensor, distance) and perform a simple linear interpolation\n",
    "between those points. \n",
    "\n",
    "<center>\n",
    "<table>\n",
    "    <tr>\n",
    "        <th>Sensor value</th><th>Distance</th>\n",
    "    </tr>\n",
    "    <tr>\n",
    "        <td>&nbsp;</td><td style=\"text-align:center\">3</td>\n",
    "    </tr>\n",
    "    <tr>\n",
    "        <td>&nbsp;</td><td style=\"text-align:center\">4</td>\n",
    "    </tr>\n",
    "    <tr>\n",
    "        <td>&nbsp;</td><td style=\"text-align:center\">8</td>\n",
    "    </tr>\n",
    "    <tr>\n",
    "        <td>&nbsp;</td><td style=\"text-align:center\">12</td>\n",
    "    </tr>\n",
    "    <tr>\n",
    "        <td>&nbsp;</td><td style=\"text-align:center\">16</td>\n",
    "    </tr>\n",
    "    <tr>\n",
    "        <td>&nbsp;</td><td style=\"text-align:center\">20</td>\n",
    "    </tr>\n",
    "    <tr>\n",
    "        <td>&nbsp;</td><td style=\"text-align:center\">24</td>\n",
    "    </tr>\n",
    "    <tr>\n",
    "        <td>&nbsp;</td><td style=\"text-align:center\">28</td>\n",
    "    </tr>\n",
    "</table>\n",
    "</center>"
   ]
  },
  {
   "cell_type": "markdown",
   "metadata": {},
   "source": [
    "You should make the following experiment:\n",
    "<ul>\n",
    "    <li>Place your robot on a mat with a distance scale</li>\n",
    "    <li>Put a box in front of the robot sensor at a given distance according to the scale</li>\n",
    "    <li>Read the sensor value and write the result in the table</li>\n",
    "    <li>Repeat the procedure for all the distances in the table</li>\n",
    "</ul>"
   ]
  },
  {
   "cell_type": "code",
   "execution_count": null,
   "metadata": {
    "collapsed": true
   },
   "outputs": [],
   "source": [
    "BrickPiUpdateValues()\n",
    "V = BrickPi.Sensor[PORT_4]\n",
    "print(V)"
   ]
  },
  {
   "cell_type": "markdown",
   "metadata": {},
   "source": [
    "You can verify the measured values by plotting the table in a graph with the following code. Just add the measured values into vector $S$. You should get a set of points placed like the graph described in the sensor datasheet."
   ]
  },
  {
   "cell_type": "code",
   "execution_count": null,
   "metadata": {
    "collapsed": true
   },
   "outputs": [],
   "source": [
    "%matplotlib inline\n",
    "from matplotlib.pyplot import *\n",
    "\n",
    "S = [760,680,445,350,297,266,248,230]\n",
    "D = [3, 4, 8, 12, 16, 20, 24, 38]\n",
    "plot(D,S,'*');\n",
    "xlabel('Distance (cm)');\n",
    "ylabel('Sensor value');"
   ]
  },
  {
   "cell_type": "markdown",
   "metadata": {},
   "source": [
    "Now, let's define a function for linear interpolation."
   ]
  },
  {
   "cell_type": "code",
   "execution_count": null,
   "metadata": {
    "collapsed": true
   },
   "outputs": [],
   "source": [
    "def interpolateDistance(V):\n",
    "    i = 0\n",
    "    while i < len(S) and S[i] > V:\n",
    "        i = i + 1\n",
    "    if i==0:\n",
    "        d = float(D[0])\n",
    "    elif i==len(S):\n",
    "        d = float(D[-1])\n",
    "    else:\n",
    "        SI = S[i-1]\n",
    "        SF = S[i]\n",
    "        DI = D[i-1]\n",
    "        DF = D[i]\n",
    "        d = DI + float(DF-DI)*(V-SI)/(SF-SI)\n",
    "    return d"
   ]
  },
  {
   "cell_type": "markdown",
   "metadata": {},
   "source": [
    "And let's plot it in the sensor range:"
   ]
  },
  {
   "cell_type": "code",
   "execution_count": null,
   "metadata": {
    "collapsed": true
   },
   "outputs": [],
   "source": [
    "V = range(230,760)\n",
    "d = []\n",
    "for i in V:\n",
    "    d.append(interpolateDistance(i))\n",
    "plot(d,V);"
   ]
  },
  {
   "cell_type": "markdown",
   "metadata": {},
   "source": [
    "For visualization purposes, let's define a short function for plotting the sensor image and the distance as a triangle."
   ]
  },
  {
   "cell_type": "code",
   "execution_count": null,
   "metadata": {
    "collapsed": true
   },
   "outputs": [],
   "source": [
    "ir_img = imread('img/sharp.png')\n",
    "\n",
    "def drawInfrared(d):\n",
    "    imshow(ir_img)\n",
    "    hold(True)\n",
    "    plot([48,48+8*d,48+8*d,48],[60,60+d/4,60-d/4,60])\n",
    "    axis([0,400,0,120])\n",
    "    axis('off')\n",
    "    hold(False)"
   ]
  },
  {
   "cell_type": "markdown",
   "metadata": {},
   "source": [
    "Let's visualize a measurement. Put an obstacle (your hand, a book) in front of the robot and refresh the plot by pressing Ctrl+Enter."
   ]
  },
  {
   "cell_type": "code",
   "execution_count": null,
   "metadata": {
    "collapsed": true
   },
   "outputs": [],
   "source": [
    "BrickPiUpdateValues()\n",
    "V = BrickPi.Sensor[PORT_4] \n",
    "d = interpolateDistance(V)\n",
    "drawInfrared(d)\n",
    "print((V,d))"
   ]
  },
  {
   "cell_type": "markdown",
   "metadata": {},
   "source": [
    "We can add a few more lines for repeating automatically the measurement process (this is called a **loop** in programming).\n",
    "\n",
    "For stopping the loop, you should click the **Interrupt** button in the notebook menu.\n",
    "\n",
    "![](files/img/interrupt_button.png)"
   ]
  },
  {
   "cell_type": "code",
   "execution_count": null,
   "metadata": {
    "collapsed": true
   },
   "outputs": [],
   "source": [
    "from IPython.display import display, clear_output\n",
    "try:\n",
    "    while True:\n",
    "        BrickPiUpdateValues()\n",
    "        V = BrickPi.Sensor[PORT_4]\n",
    "        d = interpolateDistance(V)\n",
    "        drawInfrared(d)\n",
    "        display(gcf())\n",
    "        clear_output(wait=True)\n",
    "        time.sleep(1)\n",
    "except KeyboardInterrupt:\n",
    "    clf();"
   ]
  },
  {
   "cell_type": "markdown",
   "metadata": {},
   "source": [
    "Congratulations! You have successfully learnt about the IR range sensors. Now you are ready to program the robot for some useful tasks with the sensor.\n",
    "<hr>\n",
    "<center>\n",
    "    <p>&copy; Enric Cervera 2017</p>\n",
    "    <p><a href=\"http://www.uji.es\"><img alt=\"Universitat Jaume I\" src=\"img/uji_new_logo.png\" /></a></p>\n",
    "    <p><a rel=\"license\" href=\"http://creativecommons.org/licenses/by-sa/4.0/\"><img alt=\"Creative Commons License\" style=\"border-width:0\" src=\"https://i.creativecommons.org/l/by-sa/4.0/88x31.png\" /></a><br />This work is licensed under a <a rel=\"license\" href=\"http://creativecommons.org/licenses/by-sa/4.0/\">Creative Commons Attribution-ShareAlike 4.0 International License</a>.</p>\n",
    "</center>"
   ]
  }
 ],
 "metadata": {
  "kernelspec": {
   "display_name": "Python 2",
   "language": "python",
   "name": "python2"
  },
  "language_info": {
   "codemirror_mode": {
    "name": "ipython",
    "version": 2
   },
   "file_extension": ".py",
   "mimetype": "text/x-python",
   "name": "python",
   "nbconvert_exporter": "python",
   "pygments_lexer": "ipython2",
   "version": "2.7.9"
  }
 },
 "nbformat": 4,
 "nbformat_minor": 1
}
